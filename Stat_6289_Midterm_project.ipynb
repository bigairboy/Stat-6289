{
  "nbformat": 4,
  "nbformat_minor": 0,
  "metadata": {
    "colab": {
      "name": "Stat 6289 Midterm project.ipynb",
      "provenance": [],
      "authorship_tag": "ABX9TyO5HTg5EREP4Qxku8jl1irJ",
      "include_colab_link": true
    },
    "kernelspec": {
      "name": "python3",
      "display_name": "Python 3"
    },
    "language_info": {
      "name": "python"
    }
  },
  "cells": [
    {
      "cell_type": "markdown",
      "metadata": {
        "id": "view-in-github",
        "colab_type": "text"
      },
      "source": [
        "<a href=\"https://colab.research.google.com/github/bigairboy/Stat-6289/blob/main/Stat_6289_Midterm_project.ipynb\" target=\"_parent\"><img src=\"https://colab.research.google.com/assets/colab-badge.svg\" alt=\"Open In Colab\"/></a>"
      ]
    },
    {
      "cell_type": "code",
      "execution_count": 2,
      "metadata": {
        "colab": {
          "base_uri": "https://localhost:8080/"
        },
        "id": "--ZmgVkOgDtd",
        "outputId": "ac839d99-5e98-4f64-8c2b-4d00d7dec120"
      },
      "outputs": [
        {
          "output_type": "stream",
          "name": "stdout",
          "text": [
            "Mounted at /content/drive\n"
          ]
        }
      ],
      "source": [
        "# Load the Drive helper and mount\n",
        "from google.colab import drive\n",
        "\n",
        "# This will prompt for authorization.\n",
        "drive.mount('/content/drive')"
      ]
    },
    {
      "cell_type": "code",
      "source": [
        "import pandas as pd\n",
        "import numpy as np\n",
        "import tensorflow as tf\n",
        "\n",
        "\n",
        "# read in data\n",
        "data = pd.read_csv(\"//content/drive/MyDrive/fer2013.csv\")\n",
        "\n",
        "# split data\n",
        "train = data[data.Usage == 'Training']\n",
        "val = data[data.Usage == 'PublicTest']\n",
        "test = data[data.Usage == 'PrivateTest']\n",
        "\n",
        "# Change Y to one hot encoding  \n",
        "def convert_emotion_to_one_hot(data):\n",
        "\n",
        "    y = data[\"emotion\"].values.ravel()    # flatten y\n",
        "    num_classes = np.unique(y).shape[0]\n",
        "    num_y = y.shape[0]\n",
        "    index_offset = np.arange(num_y) * num_classes\n",
        "    labels_one_hot = np.zeros((num_y, num_classes))\n",
        "    labels_one_hot.flat[[index_offset + y.ravel()]] = 1\n",
        "\n",
        "    return labels_one_hot\n",
        "\n",
        "# Labels for classes\n",
        "emotion_labels = [\"Angry\", \"Disgust\", \"Fear\", \"Happy\", \"Sad\", \"Surprise\", \"Neutral\"]\n",
        "\n",
        "# create output data\n",
        "y_train = convert_emotion_to_one_hot(train)\n",
        "y_val = convert_emotion_to_one_hot(val)\n",
        "y_test = convert_emotion_to_one_hot(test)\n",
        "\n",
        "# number of classes in output\n",
        "y = data[\"emotion\"].values.ravel()    # flatten y\n",
        "num_classes = np.unique(y).shape[0]\n",
        "\n",
        "# change X to workable data\n",
        "def convert_pixels_to_images(data, image_size):\n",
        "\n",
        "  pixels_values = data.pixels.str.split(\" \").tolist()\n",
        "  pixels_values = pd.DataFrame(pixels_values, dtype=int)\n",
        "\n",
        "  images = pixels_values.values\n",
        "  images = images.astype(np.float)\n",
        "  images = images.reshape(images.shape[0], image_size, image_size, 1)\n",
        "  images = images.astype('float32')\n",
        "\n",
        "  return images\n",
        "\n",
        "# create input data\n",
        "image_size = 48\n",
        "X_train = convert_pixels_to_images(train, image_size=image_size)     #images are 48*48\n",
        "X_val = convert_pixels_to_images(val, image_size=image_size)         #images are 48*48\n",
        "X_test = convert_pixels_to_images(test, image_size=image_size)       #images are 48*48\n",
        "\n",
        "\n",
        "\n",
        "\"\"\"DATA AUGMENTATION (TRAINING DATA)\"\"\"\n",
        "\n",
        "# select 200 random training images for augmentation\n",
        "num_rand = 200\n",
        "np.random.seed(42)\n",
        "rand = list(np.random.randint(0, len(X_train), num_rand))\n",
        "images_aug = X_train[rand]\n",
        "\n",
        "# create augmentation function\n",
        "def augment(image):\n",
        "  image = tf.image.convert_image_dtype(image, tf.float32) # Cast and normalize the image to [0,1]\n",
        "  image = tf.image.resize_with_crop_or_pad(image, image_size + 6, image_size + 6) # Add 6 pixels of padding\n",
        "  image = tf.image.random_crop(image,size=[image_size, image_size, 1])             \n",
        "  image = tf.image.random_flip_left_right(image)\n",
        "  return image\n",
        "\n",
        "# augment randomly selected training images images\n",
        "for image in range(len(images_aug)):\n",
        "  images_aug[image] = augment(images_aug[image])\n",
        "\n",
        "# combine augmented data with training data\n",
        "X_train = np.vstack((X_train, images_aug))\n",
        "y_train = np.vstack((y_train, y_train[rand]))\n",
        "\n",
        "\n",
        "\"\"\"DATA NORMALIZATION\"\"\"\n",
        "\n",
        "X_train /= 255\n",
        "X_val /= 255\n",
        "X_test /= 255\n"
      ],
      "metadata": {
        "colab": {
          "base_uri": "https://localhost:8080/"
        },
        "id": "2lX_BNMrkdfN",
        "outputId": "a5c2dbde-03d5-4120-9757-732c0e460607"
      },
      "execution_count": 3,
      "outputs": [
        {
          "output_type": "stream",
          "name": "stderr",
          "text": [
            "/usr/local/lib/python3.7/dist-packages/ipykernel_launcher.py:53: FutureWarning: Could not cast to int64, falling back to object. This behavior is deprecated. In a future version, when a dtype is passed to 'DataFrame', either all columns will be cast to that dtype, or a TypeError will be raised\n",
            "/usr/local/lib/python3.7/dist-packages/ipykernel_launcher.py:45: DeprecationWarning: `np.float` is a deprecated alias for the builtin `float`. To silence this warning, use `float` by itself. Doing this will not modify any behavior and is safe. If you specifically wanted the numpy scalar type, use `np.float64` here.\n",
            "Deprecated in NumPy 1.20; for more details and guidance: https://numpy.org/devdocs/release/1.20.0-notes.html#deprecations\n",
            "/usr/local/lib/python3.7/dist-packages/ipykernel_launcher.py:54: FutureWarning: Could not cast to int64, falling back to object. This behavior is deprecated. In a future version, when a dtype is passed to 'DataFrame', either all columns will be cast to that dtype, or a TypeError will be raised\n",
            "/usr/local/lib/python3.7/dist-packages/ipykernel_launcher.py:55: FutureWarning: Could not cast to int64, falling back to object. This behavior is deprecated. In a future version, when a dtype is passed to 'DataFrame', either all columns will be cast to that dtype, or a TypeError will be raised\n"
          ]
        }
      ]
    },
    {
      "cell_type": "code",
      "source": [
        "df = pd.concat([data.emotion.value_counts(), data.emotion.value_counts(normalize=True)], axis = 1)\n",
        "df.columns = ['Number of Observations','Percentage']\n",
        "df\n",
        "#0 = \"Angry\" 1 =  \"Disgust\" 2 =  \"Fear\" 3 =\"Happy\" 4 = \"Sad\" 5 = \"Surprise\" 6 = \"Neutral\""
      ],
      "metadata": {
        "colab": {
          "base_uri": "https://localhost:8080/",
          "height": 269
        },
        "id": "UTqho3bMnais",
        "outputId": "5c0a1c71-b6d1-46c6-a198-5c2a70cb8df7"
      },
      "execution_count": 4,
      "outputs": [
        {
          "output_type": "execute_result",
          "data": {
            "text/plain": [
              "   Number of Observations  Percentage\n",
              "3                    8989    0.250481\n",
              "6                    6198    0.172709\n",
              "4                    6077    0.169337\n",
              "2                    5121    0.142698\n",
              "0                    4953    0.138017\n",
              "5                    4002    0.111517\n",
              "1                     547    0.015242"
            ],
            "text/html": [
              "\n",
              "  <div id=\"df-f2c29c97-7d41-4e06-8435-654bf14d44d7\">\n",
              "    <div class=\"colab-df-container\">\n",
              "      <div>\n",
              "<style scoped>\n",
              "    .dataframe tbody tr th:only-of-type {\n",
              "        vertical-align: middle;\n",
              "    }\n",
              "\n",
              "    .dataframe tbody tr th {\n",
              "        vertical-align: top;\n",
              "    }\n",
              "\n",
              "    .dataframe thead th {\n",
              "        text-align: right;\n",
              "    }\n",
              "</style>\n",
              "<table border=\"1\" class=\"dataframe\">\n",
              "  <thead>\n",
              "    <tr style=\"text-align: right;\">\n",
              "      <th></th>\n",
              "      <th>Number of Observations</th>\n",
              "      <th>Percentage</th>\n",
              "    </tr>\n",
              "  </thead>\n",
              "  <tbody>\n",
              "    <tr>\n",
              "      <th>3</th>\n",
              "      <td>8989</td>\n",
              "      <td>0.250481</td>\n",
              "    </tr>\n",
              "    <tr>\n",
              "      <th>6</th>\n",
              "      <td>6198</td>\n",
              "      <td>0.172709</td>\n",
              "    </tr>\n",
              "    <tr>\n",
              "      <th>4</th>\n",
              "      <td>6077</td>\n",
              "      <td>0.169337</td>\n",
              "    </tr>\n",
              "    <tr>\n",
              "      <th>2</th>\n",
              "      <td>5121</td>\n",
              "      <td>0.142698</td>\n",
              "    </tr>\n",
              "    <tr>\n",
              "      <th>0</th>\n",
              "      <td>4953</td>\n",
              "      <td>0.138017</td>\n",
              "    </tr>\n",
              "    <tr>\n",
              "      <th>5</th>\n",
              "      <td>4002</td>\n",
              "      <td>0.111517</td>\n",
              "    </tr>\n",
              "    <tr>\n",
              "      <th>1</th>\n",
              "      <td>547</td>\n",
              "      <td>0.015242</td>\n",
              "    </tr>\n",
              "  </tbody>\n",
              "</table>\n",
              "</div>\n",
              "      <button class=\"colab-df-convert\" onclick=\"convertToInteractive('df-f2c29c97-7d41-4e06-8435-654bf14d44d7')\"\n",
              "              title=\"Convert this dataframe to an interactive table.\"\n",
              "              style=\"display:none;\">\n",
              "        \n",
              "  <svg xmlns=\"http://www.w3.org/2000/svg\" height=\"24px\"viewBox=\"0 0 24 24\"\n",
              "       width=\"24px\">\n",
              "    <path d=\"M0 0h24v24H0V0z\" fill=\"none\"/>\n",
              "    <path d=\"M18.56 5.44l.94 2.06.94-2.06 2.06-.94-2.06-.94-.94-2.06-.94 2.06-2.06.94zm-11 1L8.5 8.5l.94-2.06 2.06-.94-2.06-.94L8.5 2.5l-.94 2.06-2.06.94zm10 10l.94 2.06.94-2.06 2.06-.94-2.06-.94-.94-2.06-.94 2.06-2.06.94z\"/><path d=\"M17.41 7.96l-1.37-1.37c-.4-.4-.92-.59-1.43-.59-.52 0-1.04.2-1.43.59L10.3 9.45l-7.72 7.72c-.78.78-.78 2.05 0 2.83L4 21.41c.39.39.9.59 1.41.59.51 0 1.02-.2 1.41-.59l7.78-7.78 2.81-2.81c.8-.78.8-2.07 0-2.86zM5.41 20L4 18.59l7.72-7.72 1.47 1.35L5.41 20z\"/>\n",
              "  </svg>\n",
              "      </button>\n",
              "      \n",
              "  <style>\n",
              "    .colab-df-container {\n",
              "      display:flex;\n",
              "      flex-wrap:wrap;\n",
              "      gap: 12px;\n",
              "    }\n",
              "\n",
              "    .colab-df-convert {\n",
              "      background-color: #E8F0FE;\n",
              "      border: none;\n",
              "      border-radius: 50%;\n",
              "      cursor: pointer;\n",
              "      display: none;\n",
              "      fill: #1967D2;\n",
              "      height: 32px;\n",
              "      padding: 0 0 0 0;\n",
              "      width: 32px;\n",
              "    }\n",
              "\n",
              "    .colab-df-convert:hover {\n",
              "      background-color: #E2EBFA;\n",
              "      box-shadow: 0px 1px 2px rgba(60, 64, 67, 0.3), 0px 1px 3px 1px rgba(60, 64, 67, 0.15);\n",
              "      fill: #174EA6;\n",
              "    }\n",
              "\n",
              "    [theme=dark] .colab-df-convert {\n",
              "      background-color: #3B4455;\n",
              "      fill: #D2E3FC;\n",
              "    }\n",
              "\n",
              "    [theme=dark] .colab-df-convert:hover {\n",
              "      background-color: #434B5C;\n",
              "      box-shadow: 0px 1px 3px 1px rgba(0, 0, 0, 0.15);\n",
              "      filter: drop-shadow(0px 1px 2px rgba(0, 0, 0, 0.3));\n",
              "      fill: #FFFFFF;\n",
              "    }\n",
              "  </style>\n",
              "\n",
              "      <script>\n",
              "        const buttonEl =\n",
              "          document.querySelector('#df-f2c29c97-7d41-4e06-8435-654bf14d44d7 button.colab-df-convert');\n",
              "        buttonEl.style.display =\n",
              "          google.colab.kernel.accessAllowed ? 'block' : 'none';\n",
              "\n",
              "        async function convertToInteractive(key) {\n",
              "          const element = document.querySelector('#df-f2c29c97-7d41-4e06-8435-654bf14d44d7');\n",
              "          const dataTable =\n",
              "            await google.colab.kernel.invokeFunction('convertToInteractive',\n",
              "                                                     [key], {});\n",
              "          if (!dataTable) return;\n",
              "\n",
              "          const docLinkHtml = 'Like what you see? Visit the ' +\n",
              "            '<a target=\"_blank\" href=https://colab.research.google.com/notebooks/data_table.ipynb>data table notebook</a>'\n",
              "            + ' to learn more about interactive tables.';\n",
              "          element.innerHTML = '';\n",
              "          dataTable['output_type'] = 'display_data';\n",
              "          await google.colab.output.renderOutput(dataTable, element);\n",
              "          const docLink = document.createElement('div');\n",
              "          docLink.innerHTML = docLinkHtml;\n",
              "          element.appendChild(docLink);\n",
              "        }\n",
              "      </script>\n",
              "    </div>\n",
              "  </div>\n",
              "  "
            ]
          },
          "metadata": {},
          "execution_count": 4
        }
      ]
    },
    {
      "cell_type": "code",
      "source": [
        "import matplotlib.pyplot as plt\n",
        "\n",
        "example = X_val[7, :]\n",
        "example = example.reshape(48, 48)\n",
        "plt.imshow(example,cmap='gray')\n",
        "plt.show()"
      ],
      "metadata": {
        "colab": {
          "base_uri": "https://localhost:8080/",
          "height": 267
        },
        "id": "37hOsOSXnd9K",
        "outputId": "4a9d386d-af83-4941-fbcd-31228d49af7b"
      },
      "execution_count": 5,
      "outputs": [
        {
          "output_type": "display_data",
          "data": {
            "text/plain": [
              "<Figure size 432x288 with 1 Axes>"
            ],
            "image/png": "[encoded data removed]"
          },
          "metadata": {
            "needs_background": "light"
          }
        }
      ]
    },
    {
      "cell_type": "code",
      "source": [
        "import matplotlib.pyplot as plt\n",
        "\n",
        "example = images_aug[14, :]\n",
        "example = example.reshape(48, 48)\n",
        "plt.imshow(example,cmap='gray')\n",
        "plt.show()"
      ],
      "metadata": {
        "colab": {
          "base_uri": "https://localhost:8080/",
          "height": 267
        },
        "id": "0y25coSAnkGx",
        "outputId": "86ae4a70-eabe-4958-c78d-54863d6d8fe0"
      },
      "execution_count": 6,
      "outputs": [
        {
          "output_type": "display_data",
          "data": {
            "text/plain": [
              "<Figure size 432x288 with 1 Axes>"
            ],
            "image/png": "[encoded data removed]"
          },
          "metadata": {
            "needs_background": "light"
          }
        }
      ]
    },
    {
      "cell_type": "code",
      "source": [
        "#Simplier VGG19 \n",
        "\n",
        "from tensorflow.keras import layers, models\n",
        "model = models.Sequential()\n",
        "model.add(layers.Conv2D(64, (3, 3), padding = \"same\", activation='relu', input_shape = (48,48,1)))\n",
        "model.add(layers.Conv2D(64, (3, 3), padding = \"same\",activation='relu'))\n",
        "model.add(layers.MaxPooling2D((2, 2)))\n",
        "model.add(layers.Dropout(0.2))\n",
        "model.add(layers.Conv2D(128, (3, 3), padding = \"same\",activation='relu'))\n",
        "model.add(layers.Conv2D(128, (3, 3), padding = \"same\",activation='relu'))\n",
        "model.add(layers.MaxPooling2D((2, 2)))\n",
        "model.add(layers.Dropout(0.2))\n",
        "model.add(layers.Conv2D(256, (3, 3), padding = \"same\",activation='relu'))\n",
        "model.add(layers.Conv2D(256, (3, 3), padding = \"same\",activation='relu'))\n",
        "model.add(layers.MaxPooling2D((2, 2)))\n",
        "model.add(layers.Dropout(0.2))\n",
        "model.add(layers.Flatten())\n",
        "model.add(layers.Dense(1000, activation='relu'))\n",
        "model.add(layers.Dropout(0.3))\n",
        "model.add(layers.Dense(num_classes, activation='softmax'))\n",
        "\n",
        "model.compile(loss='categorical_crossentropy',\n",
        "              optimizer=tf.keras.optimizers.RMSprop(lr=5e-5, rho=0.9, epsilon=1e-08, decay=0.0),\n",
        "              metrics=['accuracy'])\n",
        "vgg_model2 = model.fit(X_train,y_train, epochs=10, \n",
        "                    validation_data=(X_test, y_test))"
      ],
      "metadata": {
        "colab": {
          "base_uri": "https://localhost:8080/"
        },
        "id": "DSch3eRXntsh",
        "outputId": "91683d62-65c5-4ec8-b9e1-c54136fffc03"
      },
      "execution_count": 19,
      "outputs": [
        {
          "output_type": "stream",
          "name": "stdout",
          "text": [
            "Epoch 1/10\n"
          ]
        },
        {
          "output_type": "stream",
          "name": "stderr",
          "text": [
            "/usr/local/lib/python3.7/dist-packages/keras/optimizer_v2/rmsprop.py:130: UserWarning: The `lr` argument is deprecated, use `learning_rate` instead.\n",
            "  super(RMSprop, self).__init__(name, **kwargs)\n"
          ]
        },
        {
          "output_type": "stream",
          "name": "stdout",
          "text": [
            "904/904 [==============================] - 1273s 1s/step - loss: 1.7705 - accuracy: 0.2775 - val_loss: 1.6539 - val_accuracy: 0.3625\n",
            "Epoch 2/10\n",
            "904/904 [==============================] - 1241s 1s/step - loss: 1.5882 - accuracy: 0.3875 - val_loss: 1.5405 - val_accuracy: 0.4160\n",
            "Epoch 3/10\n",
            "904/904 [==============================] - 1240s 1s/step - loss: 1.4721 - accuracy: 0.4366 - val_loss: 1.4930 - val_accuracy: 0.4461\n",
            "Epoch 4/10\n",
            "904/904 [==============================] - 1251s 1s/step - loss: 1.3930 - accuracy: 0.4694 - val_loss: 1.3497 - val_accuracy: 0.4879\n",
            "Epoch 5/10\n",
            "904/904 [==============================] - 1248s 1s/step - loss: 1.3193 - accuracy: 0.5004 - val_loss: 1.3084 - val_accuracy: 0.5116\n",
            "Epoch 6/10\n",
            "904/904 [==============================] - 1241s 1s/step - loss: 1.2599 - accuracy: 0.5255 - val_loss: 1.2558 - val_accuracy: 0.5235\n",
            "Epoch 7/10\n",
            "904/904 [==============================] - 1246s 1s/step - loss: 1.2080 - accuracy: 0.5460 - val_loss: 1.2245 - val_accuracy: 0.5305\n",
            "Epoch 8/10\n",
            "904/904 [==============================] - 1238s 1s/step - loss: 1.1613 - accuracy: 0.5685 - val_loss: 1.2260 - val_accuracy: 0.5355\n",
            "Epoch 9/10\n",
            "904/904 [==============================] - 1237s 1s/step - loss: 1.1196 - accuracy: 0.5833 - val_loss: 1.1824 - val_accuracy: 0.5612\n",
            "Epoch 10/10\n",
            "904/904 [==============================] - 1234s 1s/step - loss: 1.0778 - accuracy: 0.5998 - val_loss: 1.1467 - val_accuracy: 0.5665\n"
          ]
        }
      ]
    },
    {
      "cell_type": "code",
      "source": [
        "model.summary()"
      ],
      "metadata": {
        "colab": {
          "base_uri": "https://localhost:8080/"
        },
        "id": "Gxsi3EITnuc5",
        "outputId": "95a9357f-9ee9-4519-f14a-71b92fb0c7bc"
      },
      "execution_count": 21,
      "outputs": [
        {
          "output_type": "stream",
          "name": "stdout",
          "text": [
            "Model: \"sequential_2\"\n",
            "_________________________________________________________________\n",
            " Layer (type)                Output Shape              Param #   \n",
            "=================================================================\n",
            " conv2d_12 (Conv2D)          (None, 48, 48, 64)        640       \n",
            "                                                                 \n",
            " conv2d_13 (Conv2D)          (None, 48, 48, 64)        36928     \n",
            "                                                                 \n",
            " max_pooling2d_6 (MaxPooling  (None, 24, 24, 64)       0         \n",
            " 2D)                                                             \n",
            "                                                                 \n",
            " dropout_8 (Dropout)         (None, 24, 24, 64)        0         \n",
            "                                                                 \n",
            " conv2d_14 (Conv2D)          (None, 24, 24, 128)       73856     \n",
            "                                                                 \n",
            " conv2d_15 (Conv2D)          (None, 24, 24, 128)       147584    \n",
            "                                                                 \n",
            " max_pooling2d_7 (MaxPooling  (None, 12, 12, 128)      0         \n",
            " 2D)                                                             \n",
            "                                                                 \n",
            " dropout_9 (Dropout)         (None, 12, 12, 128)       0         \n",
            "                                                                 \n",
            " conv2d_16 (Conv2D)          (None, 12, 12, 256)       295168    \n",
            "                                                                 \n",
            " conv2d_17 (Conv2D)          (None, 12, 12, 256)       590080    \n",
            "                                                                 \n",
            " max_pooling2d_8 (MaxPooling  (None, 6, 6, 256)        0         \n",
            " 2D)                                                             \n",
            "                                                                 \n",
            " dropout_10 (Dropout)        (None, 6, 6, 256)         0         \n",
            "                                                                 \n",
            " flatten_2 (Flatten)         (None, 9216)              0         \n",
            "                                                                 \n",
            " dense_4 (Dense)             (None, 1000)              9217000   \n",
            "                                                                 \n",
            " dropout_11 (Dropout)        (None, 1000)              0         \n",
            "                                                                 \n",
            " dense_5 (Dense)             (None, 7)                 7007      \n",
            "                                                                 \n",
            "=================================================================\n",
            "Total params: 10,368,263\n",
            "Trainable params: 10,368,263\n",
            "Non-trainable params: 0\n",
            "_________________________________________________________________\n"
          ]
        }
      ]
    },
    {
      "cell_type": "code",
      "source": [
        "import matplotlib.pyplot as plt\n",
        "plt.plot(vgg_model2.history['accuracy'], label='Train_accuracy')\n",
        "plt.plot(vgg_model2.history['val_accuracy'], label = 'Test_accuracy')\n",
        "plt.xlabel('Epoch')\n",
        "plt.ylabel('Accuracy')\n",
        "plt.title(\"Accuracy Vs Epoch\")\n",
        "plt.ylim([0, 1])\n",
        "plt.legend(loc='lower right')"
      ],
      "metadata": {
        "colab": {
          "base_uri": "https://localhost:8080/",
          "height": 312
        },
        "id": "YljLm26Lnyu7",
        "outputId": "1d71a83a-9a4b-4660-c88a-637ff619d977"
      },
      "execution_count": 27,
      "outputs": [
        {
          "output_type": "execute_result",
          "data": {
            "text/plain": [
              "<matplotlib.legend.Legend at 0x7f687619aa10>"
            ]
          },
          "metadata": {},
          "execution_count": 27
        },
        {
          "output_type": "display_data",
          "data": {
            "text/plain": [
              "<Figure size 432x288 with 1 Axes>"
            ],
            "image/png": "[encoded data removed]"
          },
          "metadata": {
            "needs_background": "light"
          }
        }
      ]
    },
    {
      "cell_type": "code",
      "source": [
        "plt.plot(vgg_model2.history['loss'])\n",
        "plt.plot(vgg_model2.history['val_loss'])\n",
        "plt.title('Model Loss')\n",
        "plt.ylabel('Loss')\n",
        "plt.xlabel('Epoch')\n",
        "plt.ylim(0,2)\n",
        "plt.legend(['Train', 'Test'], loc='upper left')\n",
        "plt.show()"
      ],
      "metadata": {
        "colab": {
          "base_uri": "https://localhost:8080/",
          "height": 295
        },
        "id": "bNlSdiufn1T3",
        "outputId": "3eab76d4-05d1-44ba-8087-155f00293672"
      },
      "execution_count": 26,
      "outputs": [
        {
          "output_type": "display_data",
          "data": {
            "text/plain": [
              "<Figure size 432x288 with 1 Axes>"
            ],
            "image/png": "[encoded data removed]"
          },
          "metadata": {
            "needs_background": "light"
          }
        }
      ]
    },
    {
      "cell_type": "code",
      "source": [
        "scores = model.evaluate(X_test, y_test)\n",
        "(model.metrics_names[1], scores[1]*100)"
      ],
      "metadata": {
        "colab": {
          "base_uri": "https://localhost:8080/"
        },
        "id": "k3C2R0I9qJis",
        "outputId": "25e95bc0-8253-43bc-e9e9-de1724677f2e"
      },
      "execution_count": 24,
      "outputs": [
        {
          "output_type": "stream",
          "name": "stdout",
          "text": [
            "113/113 [==============================] - 38s 335ms/step - loss: 1.1467 - accuracy: 0.5665\n"
          ]
        },
        {
          "output_type": "execute_result",
          "data": {
            "text/plain": [
              "('accuracy', 56.64530396461487)"
            ]
          },
          "metadata": {},
          "execution_count": 24
        }
      ]
    }
  ]
}