{
  "nbformat": 4,
  "nbformat_minor": 0,
  "metadata": {
    "colab": {
      "name": "PUBH 6852 HW3.ipynb",
      "provenance": [],
      "authorship_tag": "ABX9TyOOrr7yXEVtEK3vOnFrcdG5",
      "include_colab_link": true
    },
    "kernelspec": {
      "name": "python3",
      "display_name": "Python 3"
    },
    "language_info": {
      "name": "python"
    }
  },
  "cells": [
    {
      "cell_type": "markdown",
      "metadata": {
        "id": "view-in-github",
        "colab_type": "text"
      },
      "source": [
        "<a href=\"https://colab.research.google.com/github/bigairboy/Stat-6289/blob/main/PUBH_6852_HW3.ipynb\" target=\"_parent\"><img src=\"https://colab.research.google.com/assets/colab-badge.svg\" alt=\"Open In Colab\"/></a>"
      ]
    },
    {
      "cell_type": "markdown",
      "source": [
        "**Problem 3.1(1)**"
      ],
      "metadata": {
        "id": "aym_Fe5Qda_Y"
      }
    },
    {
      "cell_type": "code",
      "execution_count": 60,
      "metadata": {
        "colab": {
          "base_uri": "https://localhost:8080/"
        },
        "id": "IYsA5ABHbYvh",
        "outputId": "6e758eee-1aee-45ff-eea1-6dd165a30d13"
      },
      "outputs": [
        {
          "output_type": "stream",
          "name": "stdout",
          "text": [
            "[0, 2, 4, 6, 8]\n"
          ]
        }
      ],
      "source": [
        "list = [x for x in range(10)]\n",
        "\n",
        "newlist = [x for x in list if x % 2==0]\n",
        "\n",
        "print(newlist)"
      ]
    },
    {
      "cell_type": "code",
      "source": [
        "list2 = [x**2 for x in range(5)]\n",
        "\n",
        "print(list2)\n"
      ],
      "metadata": {
        "colab": {
          "base_uri": "https://localhost:8080/"
        },
        "id": "l9xM9rMRdvgP",
        "outputId": "deb33b91-15e9-41ff-aa9a-a146a5bc6917"
      },
      "execution_count": 61,
      "outputs": [
        {
          "output_type": "stream",
          "name": "stdout",
          "text": [
            "[0, 1, 4, 9, 16]\n"
          ]
        }
      ]
    },
    {
      "cell_type": "markdown",
      "source": [
        "**Problem 3.1(2)**"
      ],
      "metadata": {
        "id": "-ZsjdKpCdmoe"
      }
    },
    {
      "cell_type": "code",
      "source": [
        "def IsEven(number_list):\n",
        "    en = [] \n",
        "    for number in number_list:\n",
        "        if number % 2 == 0: \n",
        "            en.append(number) \n",
        "    return en "
      ],
      "metadata": {
        "id": "rAQV-pX0drGV"
      },
      "execution_count": 62,
      "outputs": []
    },
    {
      "cell_type": "markdown",
      "source": [
        "**Problem 3.2**"
      ],
      "metadata": {
        "id": "EAmbAVdkVKPv"
      }
    },
    {
      "cell_type": "code",
      "source": [
        "def FP(S, L):\n",
        " palindromes = []\n",
        "\n",
        "\n",
        " for index in range(len(S)):\n",
        "  substring = S[index:index+L]\n",
        "\n",
        "  if substring == substring[::-1]:\n",
        "   palindromes.append(substring)\n",
        "  \n",
        " return palindromes\n",
        "\n",
        "\n",
        "\n",
        "with open(\"/content/sequence1.txt\") as file:\n",
        " st = file.read()\n",
        "\n",
        "\n",
        "# given length 9\n",
        "print(FP(st, 9))"
      ],
      "metadata": {
        "colab": {
          "base_uri": "https://localhost:8080/"
        },
        "id": "NnQxrPojVNUz",
        "outputId": "35d76c12-19f8-45c6-c8dc-58c35c299a6f"
      },
      "execution_count": 83,
      "outputs": [
        {
          "output_type": "stream",
          "name": "stdout",
          "text": [
            "['CCTTATTCC', 'ACCAAACCA', 'TTATGTATT', 'CACTTTCAC', 'ACAGTGACA', 'CGAAAAAGC', 'TATGTGTAT', 'AATTCTTAA', 'GAGCTCGAG', 'CTTTTTTTC', 'TAGCTCGAT', 'AGCCGCCGA', 'GGGAGAGGG', 'AGGGAGGGA', 'GGCTGTCGG', 'CAACCCAAC', 'TTCGCGCTT', 'GCTGAGTCG', 'TGTTATTGT', 'AAGATAGAA', 'AATAGATAA', 'GGACCCAGG', 'ACACGCACA', 'GTAGTGATG', 'GCATATACG', 'GCTACATCG', 'AATTTTTAA', 'TTTGGGTTT', 'ATGCGCGTA', 'GGGTGTGGG', 'GTATGTATG', 'AAGGAGGAA', 'GGATTTAGG', 'AAGACAGAA', 'AGAAAAAGA', 'TT', 'T']\n"
          ]
        }
      ]
    },
    {
      "cell_type": "markdown",
      "source": [
        "**Problem 3.3**"
      ],
      "metadata": {
        "id": "CCuH7yM-VNyy"
      }
    },
    {
      "cell_type": "code",
      "source": [
        "import random\n",
        "\n",
        "\n",
        "class NumberGuessingGame:\n",
        "\n",
        "    def __init__(self):\n",
        "        self.LOWER = 1\n",
        "        self.HIGHER = 100\n",
        "\n",
        "    def get_random_number(self):\n",
        "        return random.randint(self.LOWER, self.HIGHER)\n",
        "\n",
        "    def start(self):\n",
        "        random_number = self.get_random_number()\n",
        "\n",
        "        print(\n",
        "            f\"I'm thinking of a number between {self.LOWER} and {self.HIGHER}. Guess what it is!\")\n",
        "\n",
        "        chances = 0\n",
        "        while True:\n",
        "            user_number = int(input(\"Guess a number: \"))\n",
        "            if user_number == random_number:\n",
        "                print(\n",
        "                    f\"-> You've guessed it! The number is {random_number}\")\n",
        "                break\n",
        "            elif user_number < random_number:\n",
        "                print(\"-> Too small\")\n",
        "            else:\n",
        "                print(\"-> Too large\")\n",
        "            chances += 1\n",
        "\n",
        "numberGuessingGame = NumberGuessingGame()\n",
        "numberGuessingGame.start()"
      ],
      "metadata": {
        "colab": {
          "base_uri": "https://localhost:8080/"
        },
        "id": "4N1_ylj3VR8i",
        "outputId": "d05ec593-99b8-46c3-ccfe-7d95be2718ab"
      },
      "execution_count": 22,
      "outputs": [
        {
          "output_type": "stream",
          "name": "stdout",
          "text": [
            "I'm thinking of a number between 1 and 100. Guess what it is!\n",
            "Guess a number: 44\n",
            "-> Too small\n",
            "Guess a number: 77\n",
            "-> Too large\n",
            "Guess a number: 50\n",
            "-> Too small\n",
            "Guess a number: 60\n",
            "-> You've guessed it! The number is 60\n"
          ]
        }
      ]
    },
    {
      "cell_type": "markdown",
      "source": [
        "**Problem 3.4(1)**"
      ],
      "metadata": {
        "id": "82xoHHErxjUI"
      }
    },
    {
      "cell_type": "code",
      "source": [
        "def IsLeap(Y):\n",
        "    if Y % 400 == 0:\n",
        "        return True\n",
        "    if Y % 100 == 0:\n",
        "        return False\n",
        "    if Y % 4 == 0:\n",
        "        return True\n",
        "    return False\n",
        "\n",
        "print(IsLeap(int(input())))"
      ],
      "metadata": {
        "colab": {
          "base_uri": "https://localhost:8080/"
        },
        "id": "LAdtTG8Qxoqi",
        "outputId": "56cd9aa5-dcd2-46a6-eec5-3e0b6cd67861"
      },
      "execution_count": 57,
      "outputs": [
        {
          "output_type": "stream",
          "name": "stdout",
          "text": [
            "2000\n",
            "True\n"
          ]
        }
      ]
    },
    {
      "cell_type": "markdown",
      "source": [
        "**Problem 3.4(2)&(3)&(4)**"
      ],
      "metadata": {
        "id": "qjP6j0BU1Uve"
      }
    },
    {
      "cell_type": "code",
      "source": [
        "def leap(start,stop):\n",
        "  l =[]\n",
        "  \n",
        "  for i in range(start,stop+1):\n",
        "    \n",
        "    if i%4==0:\n",
        "      if i%100==0:\n",
        "        if i%400==0:\n",
        "          l.append(i)\n",
        "      else:\n",
        "        l.append(i)\n",
        "  return l\n",
        "  \n",
        "  \n",
        "#get list of leap years of 21th century\n",
        "l = leap(2000,2100)\n",
        "\n",
        "print(\"number of leap years:\",len(l))\n",
        "print(\"sum of leap years:\",sum(l))\n",
        "\n",
        "c=0\n",
        "s=0\n",
        "\n",
        "for i in l:\n",
        "  if i%3==0:\n",
        "    c=c+1\n",
        "    s=s+i\n",
        "    \n",
        "print(\"number of leap years divisible by 3:\",c)\n",
        "print(\"sum of leap years divisible by 3:\",s)"
      ],
      "metadata": {
        "colab": {
          "base_uri": "https://localhost:8080/"
        },
        "id": "n-0VEupN1Y4U",
        "outputId": "78b04654-b815-4a43-a673-eec0dc60b1f2"
      },
      "execution_count": 59,
      "outputs": [
        {
          "output_type": "stream",
          "name": "stdout",
          "text": [
            "number of leap years: 25\n",
            "sum of leap years: 51200\n",
            "number of leap years divisible by 3: 8\n",
            "sum of leap years divisible by 3: 16368\n"
          ]
        }
      ]
    },
    {
      "cell_type": "markdown",
      "source": [
        "**Problem 3.5**"
      ],
      "metadata": {
        "id": "vkWOgdoG1g07"
      }
    },
    {
      "cell_type": "code",
      "source": [
        "import csv\n",
        "\n",
        "\n",
        "fileLineList = []\n",
        "averageScoreDict = {}\n",
        "\n",
        "with open('/content/RADIOLOGY.txt', newline='') as csvfile:\n",
        "    reader = csv.reader(csvfile)\n",
        "    for row in reader:\n",
        "        fileLineList.append(row)\n",
        "\n",
        "for row in fileLineList:\n",
        "    highest = 0\n",
        "    lowest = 0\n",
        "    total = 0\n",
        "    average = 0\n",
        "    for column in row:\n",
        "        if column.isdigit():\n",
        "            column = int(column)\n",
        "            if column > highest:\n",
        "                highest = column\n",
        "            if column < lowest or lowest == 0:\n",
        "                lowest = column\n",
        "            total += column    \n",
        "    average = total / 3\n",
        "    averageScoreDict[row[0]] = [highest, lowest, round(average)]\n",
        "\n",
        "print(averageScoreDict)"
      ],
      "metadata": {
        "colab": {
          "base_uri": "https://localhost:8080/"
        },
        "id": "GuSLhjcR1jis",
        "outputId": "2856e71a-3b80-4e38-8055-65db1db160df"
      },
      "execution_count": 76,
      "outputs": [
        {
          "output_type": "stream",
          "name": "stdout",
          "text": [
            "{'   1    2317    5327     997     986': [0, 0, 0], '   2    2605    5617    1085    1105': [0, 0, 0], '   3    2364    5490    1061     998': [0, 0, 0], '   4    2975    6236    1129    1164': [0, 0, 0], '   5    2766    5877    1206    1104': [0, 0, 0], '   6    2762    6058    1295     908': [0, 0, 0], '   7    3020    6602    1274    1089': [0, 0, 0], '   8    2576    5644    1091    1041': [0, 0, 0], '   9    3329    6643    1396    1130': [0, 0, 0], '  10    2989    6284    1330    1192': [0, 0, 0], '  11    3068    6492    1405    1158': [0, 0, 0], '  12    3058    6379    1293    1127': [0, 0, 0], '  13    3252    6650    1487    1257': [0, 0, 0], '  14    3301    6600    1547    1255': [0, 0, 0], '  15    3314    6890    1466    1155': [0, 0, 0], '  16    3682    7309    1580    1356': [0, 0, 0], '  17    3325    6899    1441    1076': [0, 0, 0], '  18    3371    6463    1516    1048': [0, 0, 0], '  19    3835    7584    1804    1294': [0, 0, 0], '  20    3356    6505    1408    1043': [0, 0, 0], '  21    3631    7201    1479    1137': [0, 0, 0], '  22    3625    6579    1453    1310': [0, 0, 0], '  23    2797    4394    1489    1161': [0, 0, 0], '  24    3073    5351    1380    1083': [0, 0, 0], '  25    3455    6018    1464    1129': [0, 0, 0], '  26    3179    5848    1443    1080': [0, 0, 0], '  27    3450    5837    1400    1159': [0, 0, 0], '  28    3393    5772    1418    1231': [0, 0, 0], '  29    3093    6048    1445    1050': [0, 0, 0], '  30    3266    5864    1512    1195': [0, 0, 0], '  31    3476    6026    1589    1181': [0, 0, 0]}\n"
          ]
        }
      ]
    },
    {
      "cell_type": "markdown",
      "source": [
        "**Problem 3.6**"
      ],
      "metadata": {
        "id": "-NC7Z88J1j9m"
      }
    },
    {
      "cell_type": "code",
      "source": [
        "import datetime\n",
        "Year = int(input(\" Please enter the year you were born \"))\n",
        "Month = int(input(\" Please enter the month you were born.\"))\n",
        "Day = int(input(\" Please enter the day you were born \"))\n",
        "DoB = datetime.datetime(Year,Month,Day)\n",
        "Age = (datetime.datetime.now() - DoB)\n",
        "print(\"Today's age is \" + str(Age.days) + \" days\")"
      ],
      "metadata": {
        "colab": {
          "base_uri": "https://localhost:8080/"
        },
        "id": "oAC_ewua373G",
        "outputId": "62f37983-bf07-423a-fe57-ac714499e1ac"
      },
      "execution_count": 94,
      "outputs": [
        {
          "output_type": "stream",
          "name": "stdout",
          "text": [
            " Please enter the year you were born 1998 \n",
            " Please enter the month you were born.1\n",
            " Please enter the day you were born 1\n",
            "Today's age is 8887 days\n"
          ]
        }
      ]
    }
  ]
}