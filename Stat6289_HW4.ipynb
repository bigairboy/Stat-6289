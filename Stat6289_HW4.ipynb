{
  "nbformat": 4,
  "nbformat_minor": 0,
  "metadata": {
    "colab": {
      "name": "Stat6289 HW4.ipynb",
      "provenance": [],
      "toc_visible": true,
      "authorship_tag": "ABX9TyMPAcLRCK475ppRm9JA3Edz",
      "include_colab_link": true
    },
    "kernelspec": {
      "name": "python3",
      "display_name": "Python 3"
    },
    "language_info": {
      "name": "python"
    }
  },
  "cells": [
    {
      "cell_type": "markdown",
      "metadata": {
        "id": "view-in-github",
        "colab_type": "text"
      },
      "source": [
        "<a href=\"https://colab.research.google.com/github/bigairboy/Stat-6289/blob/main/Stat6289_HW4.ipynb\" target=\"_parent\"><img src=\"https://colab.research.google.com/assets/colab-badge.svg\" alt=\"Open In Colab\"/></a>"
      ]
    },
    {
      "cell_type": "code",
      "source": [
        "! echo \"Installing Magnitude.... (please wait, can take a while)\"\n",
        "! (curl https://raw.githubusercontent.com/plasticityai/magnitude/master/install-colab.sh | /bin/bash 1>/dev/null 2>/dev/null)\n",
        "! echo \"Done installing Magnitude.\""
      ],
      "metadata": {
        "colab": {
          "base_uri": "https://localhost:8080/"
        },
        "id": "ADU26_Py36TN",
        "outputId": "7a9b7f2c-d196-4a93-ae51-d18192c61088"
      },
      "execution_count": 32,
      "outputs": [
        {
          "output_type": "stream",
          "name": "stdout",
          "text": [
            "Installing Magnitude.... (please wait, can take a while)\n",
            "  % Total    % Received % Xferd  Average Speed   Time    Time     Time  Current\n",
            "                                 Dload  Upload   Total   Spent    Left  Speed\n",
            "100   137  100   137    0     0    355      0 --:--:-- --:--:-- --:--:--   355\n",
            "Done installing Magnitude.\n"
          ]
        }
      ]
    },
    {
      "cell_type": "code",
      "source": [
        "\n",
        "from pymagnitude import *\n",
        "import pandas as pd\n",
        "from pandas import DataFrame\n",
        "import matplotlib.pyplot as plt\n",
        "from pandas.plotting import table \n",
        "\n"
      ],
      "metadata": {
        "id": "T9QrpsK84B76"
      },
      "execution_count": 34,
      "outputs": []
    },
    {
      "cell_type": "code",
      "source": [
        "# Load the Drive helper and mount\n",
        "from google.colab import drive\n",
        "\n",
        "# This will prompt for authorization.\n",
        "drive.mount('/content/drive')"
      ],
      "metadata": {
        "colab": {
          "base_uri": "https://localhost:8080/"
        },
        "id": "PotXUtR79Z_7",
        "outputId": "8f078a80-316e-4fcf-f065-416ce799c010"
      },
      "execution_count": 35,
      "outputs": [
        {
          "output_type": "stream",
          "name": "stdout",
          "text": [
            "Mounted at /content/drive\n"
          ]
        }
      ]
    },
    {
      "cell_type": "code",
      "source": [
        "data = (\"//content/drive/MyDrive/GoogleNews-vectors-negative300.magnitude\")\n",
        "vectors = Magnitude(data)\n"
      ],
      "metadata": {
        "id": "f8mEMzFEEOJ_"
      },
      "execution_count": 38,
      "outputs": []
    },
    {
      "cell_type": "markdown",
      "source": [
        "1. What is the dimensionality of these word embeddings? Provide an integer answer."
      ],
      "metadata": {
        "id": "QsgMnUW5E0FA"
      }
    },
    {
      "cell_type": "code",
      "source": [
        "vectors.dim"
      ],
      "metadata": {
        "colab": {
          "base_uri": "https://localhost:8080/"
        },
        "id": "yq0hRDs_ErKk",
        "outputId": "6d512f43-c551-4d09-d87b-4a991e4169bf"
      },
      "execution_count": 39,
      "outputs": [
        {
          "output_type": "execute_result",
          "data": {
            "text/plain": [
              "300"
            ]
          },
          "metadata": {},
          "execution_count": 39
        }
      ]
    },
    {
      "cell_type": "markdown",
      "source": [
        "2.What are the top-5 most similar words to picnic (not including picnic itself)?"
      ],
      "metadata": {
        "id": "HMLUDiUdFBhV"
      }
    },
    {
      "cell_type": "code",
      "source": [
        "result=vectors.most_similar(vectors.query(\"picnic\"), topn = 6)\n",
        "print(result)"
      ],
      "metadata": {
        "colab": {
          "base_uri": "https://localhost:8080/"
        },
        "id": "Dd7t3kXIFDNL",
        "outputId": "075ddece-9e14-41a3-d671-5df9d00713e0"
      },
      "execution_count": 42,
      "outputs": [
        {
          "output_type": "stream",
          "name": "stdout",
          "text": [
            "[('picnic', 0.9999998), ('picnics', 0.7400875), ('picnic_lunch', 0.721374), ('Picnic', 0.700534), ('potluck_picnic', 0.6683274), ('picnic_supper', 0.65189123)]\n"
          ]
        }
      ]
    },
    {
      "cell_type": "code",
      "source": [
        "output=DataFrame(result[1:],columns=['word','similarity'])\n",
        "output.set_index('word').plot.bar()\n",
        "plt.xlabel(\"word\",fontsize=15)\n",
        "plt.ylabel(\"similarity\",fontsize=15)\n",
        "plt.title('The top-5 most similar words to picnic',fontsize=15)\n",
        "plt.ylim([0,1])\n",
        "plt.show()"
      ],
      "metadata": {
        "colab": {
          "base_uri": "https://localhost:8080/",
          "height": 363
        },
        "id": "BKjzoz1uF2XZ",
        "outputId": "ada5bf22-fa4f-415c-b5c7-39d0b225f47f"
      },
      "execution_count": 44,
      "outputs": [
        {
          "output_type": "display_data",
          "data": {
            "text/plain": [
              "<Figure size 432x288 with 1 Axes>"
            ],
            "image/png": "[encoded data removed]"
          },
          "metadata": {
            "needs_background": "light"
          }
        }
      ]
    },
    {
      "cell_type": "code",
      "source": [
        "ax = plt.subplot(111, frame_on=False) \n",
        "ax.xaxis.set_visible(False)  \n",
        "ax.yaxis.set_visible(False)  \n",
        "table(ax, DataFrame(result[1:],columns=['word','similarity']))  \n",
        "plt.show()"
      ],
      "metadata": {
        "colab": {
          "base_uri": "https://localhost:8080/",
          "height": 320
        },
        "id": "-f0od3QTGC3v",
        "outputId": "496d2dbc-8f20-41f2-834d-620cf4587c98"
      },
      "execution_count": 45,
      "outputs": [
        {
          "output_type": "display_data",
          "data": {
            "text/plain": [
              "<Figure size 432x288 with 1 Axes>"
            ],
            "image/png": "[encoded data removed]"
          },
          "metadata": {
            "needs_background": "light"
          }
        }
      ]
    },
    {
      "cell_type": "markdown",
      "source": [
        "3.According to the word embeddings, which of these words is not like the others? ['tissue', 'papyrus',\n",
        "'manila', 'newsprint', 'parchment', 'gazette']\n"
      ],
      "metadata": {
        "id": "5MPhbJVGGLyT"
      }
    },
    {
      "cell_type": "code",
      "source": [
        "vectors.doesnt_match([\"tissue\", \"papyrus\", \"manila\", \"newsprint\", \"parchment\", \"gazette\"])"
      ],
      "metadata": {
        "colab": {
          "base_uri": "https://localhost:8080/",
          "height": 35
        },
        "id": "jigqUbUHGP8L",
        "outputId": "f08ded07-d9be-4e5a-ca55-4ffccf0538b5"
      },
      "execution_count": 46,
      "outputs": [
        {
          "output_type": "execute_result",
          "data": {
            "text/plain": [
              "'tissue'"
            ],
            "application/vnd.google.colaboratory.intrinsic+json": {
              "type": "string"
            }
          },
          "metadata": {},
          "execution_count": 46
        }
      ]
    },
    {
      "cell_type": "markdown",
      "source": [
        "4. Solve the following analogy: leg is to jump as X is to throw.\n"
      ],
      "metadata": {
        "id": "piSGFQZ2GTDN"
      }
    },
    {
      "cell_type": "code",
      "source": [
        "vectors.most_similar(positive = [\"leg\", \"throw\"], negative = [\"jump\"])"
      ],
      "metadata": {
        "colab": {
          "base_uri": "https://localhost:8080/"
        },
        "id": "kKbMszPfGVu-",
        "outputId": "ae32952c-b6b0-4193-86b8-121608dc3319"
      },
      "execution_count": 47,
      "outputs": [
        {
          "output_type": "execute_result",
          "data": {
            "text/plain": [
              "[('forearm', 0.48294652),\n",
              " ('shin', 0.47376165),\n",
              " ('elbow', 0.4679689),\n",
              " ('metacarpal_bone', 0.46781474),\n",
              " ('metacarpal_bones', 0.46605822),\n",
              " ('ankle', 0.46434426),\n",
              " ('shoulder', 0.46183354),\n",
              " ('thigh', 0.45393682),\n",
              " ('knee', 0.4455707),\n",
              " ('ulna_bone', 0.4423491)]"
            ]
          },
          "metadata": {},
          "execution_count": 47
        }
      ]
    }
  ]
}