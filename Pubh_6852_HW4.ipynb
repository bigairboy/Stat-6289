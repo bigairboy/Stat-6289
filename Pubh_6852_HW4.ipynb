{
  "nbformat": 4,
  "nbformat_minor": 0,
  "metadata": {
    "colab": {
      "name": "Pubh 6852 HW4.ipynb",
      "provenance": [],
      "authorship_tag": "ABX9TyP+O+muKSSZsJgFfHCQubab",
      "include_colab_link": true
    },
    "kernelspec": {
      "name": "python3",
      "display_name": "Python 3"
    },
    "language_info": {
      "name": "python"
    }
  },
  "cells": [
    {
      "cell_type": "markdown",
      "metadata": {
        "id": "view-in-github",
        "colab_type": "text"
      },
      "source": [
        "<a href=\"https://colab.research.google.com/github/bigairboy/Stat-6289/blob/main/Pubh_6852_HW4.ipynb\" target=\"_parent\"><img src=\"https://colab.research.google.com/assets/colab-badge.svg\" alt=\"Open In Colab\"/></a>"
      ]
    },
    {
      "cell_type": "markdown",
      "source": [
        "**Problem 4.1**"
      ],
      "metadata": {
        "id": "OjQVufMR9uSn"
      }
    },
    {
      "cell_type": "code",
      "source": [
        "import sys\n",
        "import csv\n",
        "import math\n",
        "\n",
        "# Making list of elements using list comprehension\n",
        "arguments = [sys.argv[i] for i in range(1,len(sys.argv))]\n",
        "\n",
        "# calculating log ,square ,sine and cosine function\n",
        "with open('results.csv','w',newline='') as file:\n",
        "    data = csv.writer(file,delimiter=';')\n",
        "    for i in arguments:\n",
        "        log = math.log(int(i))\n",
        "        square = int(i)**2\n",
        "        sin = math.sin(int(i))\n",
        "        cosine = math.cos(int(i))\n",
        "        \n",
        "        # writing these values to csv file\n",
        "        data.writerow([log,square,sin,cosine])"
      ],
      "metadata": {
        "id": "o1gAXv4r9xTF"
      },
      "execution_count": 166,
      "outputs": []
    },
    {
      "cell_type": "markdown",
      "source": [
        "**Problem 4.2**"
      ],
      "metadata": {
        "id": "Ru36NYvz-Eyx"
      }
    },
    {
      "cell_type": "code",
      "source": [
        "import numpy as np\n",
        "\n",
        "mat=np.arange(1,101).reshape(10, 10)\n",
        "\n",
        "# printing matrix\n",
        "print(mat)"
      ],
      "metadata": {
        "colab": {
          "base_uri": "https://localhost:8080/"
        },
        "id": "mkRgV3KH-HGb",
        "outputId": "31100d3d-69fa-423f-f52d-a9ede84c80e0"
      },
      "execution_count": 144,
      "outputs": [
        {
          "output_type": "stream",
          "name": "stdout",
          "text": [
            "[[  1   2   3   4   5   6   7   8   9  10]\n",
            " [ 11  12  13  14  15  16  17  18  19  20]\n",
            " [ 21  22  23  24  25  26  27  28  29  30]\n",
            " [ 31  32  33  34  35  36  37  38  39  40]\n",
            " [ 41  42  43  44  45  46  47  48  49  50]\n",
            " [ 51  52  53  54  55  56  57  58  59  60]\n",
            " [ 61  62  63  64  65  66  67  68  69  70]\n",
            " [ 71  72  73  74  75  76  77  78  79  80]\n",
            " [ 81  82  83  84  85  86  87  88  89  90]\n",
            " [ 91  92  93  94  95  96  97  98  99 100]]\n"
          ]
        }
      ]
    },
    {
      "cell_type": "code",
      "source": [
        "import numpy as np\n",
        "def num_elements(m):\n",
        "   elements=0\n",
        "   for rows in m:\n",
        "\n",
        "     for columns in rows:\n",
        "\n",
        "        elements += 1\n",
        "\n",
        "   return elements\n",
        "\n",
        "def num_rows(m):\n",
        "   row = 0\n",
        "\n",
        "   for rows in m:\n",
        "      row += 1\n",
        "   return row\n",
        "\n",
        "def num_columns(m):\n",
        "\n",
        "   elements = num_elements(m)\n",
        "\n",
        "   row = num_rows(m)\n",
        "\n",
        "   cols = elements/row\n",
        "   return int(cols)\n",
        "\n",
        "if __name__ == '__main__':\n",
        "\n",
        "  mat = np.arange(10,30).reshape((4,5))\n",
        "  print(\"Your matrix----\")\n",
        "  print(mat)\n",
        "  print()\n",
        "  print(f'Total elements = {num_elements(mat)}')\n",
        "  print(f'Rows = {num_rows(mat)}')\n",
        "  print(f'Columns = {num_columns(mat)}')"
      ],
      "metadata": {
        "colab": {
          "base_uri": "https://localhost:8080/"
        },
        "id": "1P2D1NBBoLf7",
        "outputId": "30de9104-7178-4d34-a7cf-b67dababe546"
      },
      "execution_count": 90,
      "outputs": [
        {
          "output_type": "stream",
          "name": "stdout",
          "text": [
            "Your matrix----\n",
            "[[10 11 12 13 14]\n",
            " [15 16 17 18 19]\n",
            " [20 21 22 23 24]\n",
            " [25 26 27 28 29]]\n",
            "\n",
            "Total elements = 20\n",
            "Rows = 4\n",
            "Columns = 5\n"
          ]
        }
      ]
    },
    {
      "cell_type": "code",
      "source": [
        "def row_means(mat):\n",
        "    row_mean=[]\n",
        "    \n",
        "    for i in mat:\n",
        "        row_mean.append(sum(i)/len(mat))\n",
        "        \n",
        "    return row_mean\n",
        "        \n",
        "    \n",
        "def column_means(mat):\n",
        "    col_means=[]\n",
        "   \n",
        "    for i in range(len(mat[0])):\n",
        "        total=0\n",
        "        for j in range(len(mat)):\n",
        "            total+= mat[j][i]\n",
        "            \n",
        "        col_means.append(total/len(mat[0]))\n",
        "        \n",
        "    return col_means\n",
        "            \n",
        "            \n",
        "    \n",
        "def main():\n",
        "    rows= int(input(\"Number of rows: \"))\n",
        "    cols = int(input(\"Number of columns: \"))\n",
        "    matrix=[]\n",
        "    \n",
        "   \n",
        "    for i in range(rows):\n",
        "        sub=[]\n",
        "        for j in range(cols):\n",
        "            sub.append(int(input()))\n",
        "            \n",
        "        matrix.append(sub)\n",
        "    \n",
        "    print(\"\\nThe matrix is:\")\n",
        "    for row in matrix:\n",
        "        print(row)\n",
        "            \n",
        "    print(\"\\nRow wise means: \",row_means(matrix))\n",
        "    print(\"\\nColumn wise means: \",column_means(matrix))\n",
        "            \n",
        "    \n",
        "    \n",
        "    \n",
        "    \n",
        "main()"
      ],
      "metadata": {
        "colab": {
          "base_uri": "https://localhost:8080/"
        },
        "id": "W4AV5NmBpSOb",
        "outputId": "69da84a2-28a0-4859-cc18-214f9a2b700a"
      },
      "execution_count": 145,
      "outputs": [
        {
          "output_type": "stream",
          "name": "stdout",
          "text": [
            "Number of rows: 3\n",
            "Number of columns: 3\n",
            "1\n",
            "2\n",
            "3\n",
            "4\n",
            "5\n",
            "6\n",
            "7\n",
            "8\n",
            "9\n",
            "\n",
            "The matrix is:\n",
            "[1, 2, 3]\n",
            "[4, 5, 6]\n",
            "[7, 8, 9]\n",
            "\n",
            "Row wise means:  [2.0, 5.0, 8.0]\n",
            "\n",
            "Column wise means:  [4.0, 5.0, 6.0]\n"
          ]
        }
      ]
    },
    {
      "cell_type": "code",
      "source": [
        "def getSpaced(a, b,n):\n",
        "        if n < 2:\n",
        "                return b\n",
        "        temp = (float(b) - a)/(n - 1)\n",
        "        return [temp * i + a  for i in range(n)]\n",
        "\n",
        "b = getSpaced(11,23,50)\n",
        "\n",
        "rt = sum([x * x for x in b])\n",
        "\n",
        "print(rt)"
      ],
      "metadata": {
        "colab": {
          "base_uri": "https://localhost:8080/"
        },
        "id": "RUir12xCqrYC",
        "outputId": "7a0c8dfe-3f0e-48c5-b1e4-79053e785a34"
      },
      "execution_count": 148,
      "outputs": [
        {
          "output_type": "stream",
          "name": "stdout",
          "text": [
            "15074.48979591837\n"
          ]
        }
      ]
    },
    {
      "cell_type": "markdown",
      "source": [
        "**Problem 4.3**"
      ],
      "metadata": {
        "id": "--ch1VV_g7yC"
      }
    },
    {
      "cell_type": "code",
      "source": [
        "import numpy as np\n",
        "\n",
        "\n",
        "\n",
        "data = np.array([[0.12, 0.08, 0.06, 0.02],[0.01, 0.07, 0.11, 0.09],[0.03, 0.04, 0.04, 0.02],[0.05, 0.09, 0.11, 0.14]])\n",
        "\n",
        "#print\n",
        "print(data)"
      ],
      "metadata": {
        "colab": {
          "base_uri": "https://localhost:8080/"
        },
        "id": "24wmQH9sg-8Q",
        "outputId": "e2cb50eb-48a8-4dfe-91d1-2c3153cd1355"
      },
      "execution_count": 149,
      "outputs": [
        {
          "output_type": "stream",
          "name": "stdout",
          "text": [
            "[[0.12 0.08 0.06 0.02]\n",
            " [0.01 0.07 0.11 0.09]\n",
            " [0.03 0.04 0.04 0.02]\n",
            " [0.05 0.09 0.11 0.14]]\n"
          ]
        }
      ]
    },
    {
      "cell_type": "code",
      "source": [
        "\n",
        "meanPerGene = data.mean(axis = 1)\n",
        "\n",
        "#print the mean\n",
        "\n",
        "print(meanPerGene)"
      ],
      "metadata": {
        "colab": {
          "base_uri": "https://localhost:8080/"
        },
        "id": "BwgMW51EnMCo",
        "outputId": "49469610-9615-4dfd-9afa-7a526e28374a"
      },
      "execution_count": 150,
      "outputs": [
        {
          "output_type": "stream",
          "name": "stdout",
          "text": [
            "[0.07   0.07   0.0325 0.0975]\n"
          ]
        }
      ]
    },
    {
      "cell_type": "code",
      "source": [
        "\n",
        "\n",
        "meanPerTimePoint = data.mean(axis = 0)\n",
        "\n",
        "#print the mean per time point\n",
        "\n",
        "print(meanPerTimePoint)"
      ],
      "metadata": {
        "colab": {
          "base_uri": "https://localhost:8080/"
        },
        "id": "rlaZ5ordnhj-",
        "outputId": "d8d742da-a0a8-4077-801f-c2ce5e45bbc2"
      },
      "execution_count": 151,
      "outputs": [
        {
          "output_type": "stream",
          "name": "stdout",
          "text": [
            "[0.0525 0.07   0.08   0.0675]\n"
          ]
        }
      ]
    },
    {
      "cell_type": "code",
      "source": [
        "\n",
        "\n",
        "maximumMmean = np.where(meanPerGene == max(data.mean(axis = 1)))\n",
        "\n",
        "#print the index\n",
        "\n",
        "print(f\"The gene on index number { maximumMmean [0][0]} has the maximum mean.\")"
      ],
      "metadata": {
        "colab": {
          "base_uri": "https://localhost:8080/"
        },
        "id": "J8-9oHtpnjZz",
        "outputId": "b3cf4abe-1cbd-4c50-910e-4b79f3b883ec"
      },
      "execution_count": 152,
      "outputs": [
        {
          "output_type": "stream",
          "name": "stdout",
          "text": [
            "The gene on index number 3 has the maximum mean.\n"
          ]
        }
      ]
    },
    {
      "cell_type": "markdown",
      "source": [
        "**Problem 4.4**"
      ],
      "metadata": {
        "id": "hf62j9tAg_S3"
      }
    },
    {
      "cell_type": "code",
      "source": [
        "import csv,os,sys,pickle\n",
        "import numpy as np\n",
        "\n",
        "txtFile = \"/content/cellcycle.txt\"        # make sure that you have correct path to cellcycle.txt here\n",
        "\n",
        "## read the file once to get numRows and numCols\n",
        "numRows = 0\n",
        "reader = csv.reader(open(txtFile, 'r'),delimiter='\\t')\n",
        "expListIDs = next(reader)\n",
        "expListIDs = np.array(expListIDs[1:])\n",
        "for linja in reader:\n",
        "    numRows+=1\n",
        "\n",
        "## populate a matrix and name vectors with file info\n",
        "numColumns = len(expListIDs)\n",
        "exprMat = np.zeros([numRows,numColumns])\n",
        "reader = csv.reader(open(txtFile, 'r'),delimiter='\\t')\n",
        "header = next(reader)\n",
        "rowInd = 0\n",
        "geneList = []\n",
        "\n",
        "for linja in reader:\n",
        "    row = np.array(linja[1:])\n",
        "    newRow = np.zeros(len(row),)\n",
        "    nanInds = np.where(row == '')\n",
        "    goodInds = np.where(row != '')\n",
        "    newRow[nanInds] = np.nan\n",
        "    newRow[goodInds] = [float(element) for element in row[goodInds]]\n",
        "    exprMat[rowInd,:] = newRow\n",
        "    rowInd +=1\n",
        "    geneList.append(linja[0])\n",
        "geneList = np.array(geneList)\n",
        "\n",
        "## print out info\n",
        "print(\"--------------\")\n",
        "print(\"matrix of size (%s,%s)  created\" % (exprMat.shape))\n",
        "print(\"gene list size:\\t%s\" % geneList.size)\n",
        "print(\"exp list size:\\t%s\" % expListIDs.size)\n",
        "print(\"--------------\")\n",
        "\n",
        "## write the data to a file\n",
        "outFilePath = os.path.join(\".\",\"excercise.pickle\")\n",
        "tmp = open(outFilePath,'wb')\n",
        "pickle.dump([geneList,expListIDs,exprMat],tmp)\n",
        "tmp.close()"
      ],
      "metadata": {
        "colab": {
          "base_uri": "https://localhost:8080/"
        },
        "id": "lOsgB88ThB8U",
        "outputId": "5ec98df6-7cef-4ebd-de18-d1ac350d3a8f"
      },
      "execution_count": 142,
      "outputs": [
        {
          "output_type": "stream",
          "name": "stdout",
          "text": [
            "--------------\n",
            "matrix of size (6178,82)  created\n",
            "gene list size:\t6178\n",
            "exp list size:\t82\n",
            "--------------\n"
          ]
        }
      ]
    },
    {
      "cell_type": "code",
      "source": [
        ""
      ],
      "metadata": {
        "colab": {
          "base_uri": "https://localhost:8080/",
          "height": 238
        },
        "id": "-YfKfVUMdnQq",
        "outputId": "175d9437-b052-4941-f5b4-050adb8f75ab"
      },
      "execution_count": 55,
      "outputs": [
        {
          "output_type": "error",
          "ename": "TypeError",
          "evalue": "ignored",
          "traceback": [
            "\u001b[0;31m---------------------------------------------------------------------------\u001b[0m",
            "\u001b[0;31mTypeError\u001b[0m                                 Traceback (most recent call last)",
            "\u001b[0;32m<ipython-input-55-14e47fac10a4>\u001b[0m in \u001b[0;36m<module>\u001b[0;34m()\u001b[0m\n\u001b[1;32m      5\u001b[0m \u001b[0mreader\u001b[0m \u001b[0;34m=\u001b[0m \u001b[0mpd\u001b[0m\u001b[0;34m.\u001b[0m\u001b[0mread_pickle\u001b[0m\u001b[0;34m(\u001b[0m\u001b[0;34mr'/content/excercise.pickle'\u001b[0m\u001b[0;34m)\u001b[0m\u001b[0;34m\u001b[0m\u001b[0;34m\u001b[0m\u001b[0m\n\u001b[1;32m      6\u001b[0m \u001b[0mnumRows\u001b[0m \u001b[0;34m=\u001b[0m \u001b[0;36m0\u001b[0m\u001b[0;34m\u001b[0m\u001b[0;34m\u001b[0m\u001b[0m\n\u001b[0;32m----> 7\u001b[0;31m \u001b[0mexpListIDs\u001b[0m \u001b[0;34m=\u001b[0m \u001b[0mnext\u001b[0m\u001b[0;34m(\u001b[0m\u001b[0mreader\u001b[0m\u001b[0;34m)\u001b[0m\u001b[0;34m\u001b[0m\u001b[0;34m\u001b[0m\u001b[0m\n\u001b[0m\u001b[1;32m      8\u001b[0m \u001b[0mexpListIDs\u001b[0m \u001b[0;34m=\u001b[0m \u001b[0mnp\u001b[0m\u001b[0;34m.\u001b[0m\u001b[0marray\u001b[0m\u001b[0;34m(\u001b[0m\u001b[0mexpListIDs\u001b[0m\u001b[0;34m[\u001b[0m\u001b[0;36m1\u001b[0m\u001b[0;34m:\u001b[0m\u001b[0;34m]\u001b[0m\u001b[0;34m)\u001b[0m\u001b[0;34m\u001b[0m\u001b[0;34m\u001b[0m\u001b[0m\n\u001b[1;32m      9\u001b[0m \u001b[0;32mfor\u001b[0m \u001b[0mlinja\u001b[0m \u001b[0;32min\u001b[0m \u001b[0mreader\u001b[0m\u001b[0;34m:\u001b[0m\u001b[0;34m\u001b[0m\u001b[0;34m\u001b[0m\u001b[0m\n",
            "\u001b[0;31mTypeError\u001b[0m: 'list' object is not an iterator"
          ]
        }
      ]
    },
    {
      "cell_type": "markdown",
      "source": [
        "**Problem 4.5**"
      ],
      "metadata": {
        "id": "wuGGLhjDhCOy"
      }
    },
    {
      "cell_type": "code",
      "source": [
        "import numpy\n",
        "import matplotlib.pyplot as plt\n",
        "import statistics\n",
        "\n",
        "x = []\n",
        "y1 = []\n",
        "y2 = []\n",
        "y3 = []\n",
        "y4 = []\n",
        "for line in open('/content/RADIOLOGY.txt', 'r'):\n",
        "    lines = [i for i in line.split()]\n",
        "    x.append(lines[0])\n",
        "    y1.append(int(lines[1]))\n",
        "    y2.append(int(lines[2]))\n",
        "    y3.append(int(lines[3]))\n",
        "    y4.append(int(lines[4]))\n",
        "    n1 = statistics.mean(y1)\n",
        "    n2 = statistics.mean(y2)\n",
        "    n3 = statistics.mean(y3)\n",
        "    n4 = statistics.mean(y4)\n",
        "print(n1)\n",
        "print(n2)\n",
        "print(n3)\n",
        "print(n4)"
      ],
      "metadata": {
        "colab": {
          "base_uri": "https://localhost:8080/"
        },
        "id": "7iw-6b0J-2ub",
        "outputId": "7368cbe7-6150-4aa7-e2b3-1ca37c8134ce"
      },
      "execution_count": 131,
      "outputs": [
        {
          "output_type": "stream",
          "name": "stdout",
          "text": [
            "3151.7096774193546\n",
            "6209.258064516129\n",
            "1383.3225806451612\n",
            "1135.5483870967741\n"
          ]
        }
      ]
    },
    {
      "cell_type": "code",
      "source": [
        "import numpy\n",
        "import matplotlib.pyplot as plt\n",
        "import statistics\n",
        "\n",
        "x = []\n",
        "y1 = []\n",
        "y2 = []\n",
        "y3 = []\n",
        "y4 = []\n",
        "for line in open('/content/RADIOLOGY.txt', 'r'):\n",
        "    lines = [i for i in line.split()]\n",
        "    x.append(lines[0])\n",
        "    y1.append(int(lines[1]))\n",
        "    y2.append(int(lines[2]))\n",
        "    y3.append(int(lines[3]))\n",
        "    y4.append(int(lines[4]))\n",
        "    plt.scatter(x, y1)\n",
        "    plt.axhline(y = 3151.7096774193546, color = 'r', linestyle = '-')\n",
        "    plt.title(\"visits to radiology\")\n",
        "  \n",
        "plt.show()"
      ],
      "metadata": {
        "colab": {
          "base_uri": "https://localhost:8080/",
          "height": 281
        },
        "id": "go0KnTnChE-1",
        "outputId": "e02e13fa-088f-4d16-fd31-e48b7a75640a"
      },
      "execution_count": 138,
      "outputs": [
        {
          "output_type": "display_data",
          "data": {
            "text/plain": [
              "<Figure size 432x288 with 1 Axes>"
            ],
            "image/png": "[encoded data removed]"
          },
          "metadata": {
            "needs_background": "light"
          }
        }
      ]
    },
    {
      "cell_type": "code",
      "source": [
        "import numpy\n",
        "import matplotlib.pyplot as plt\n",
        "  \n",
        "x = []\n",
        "y1 = []\n",
        "y2 = []\n",
        "y3 = []\n",
        "y4 = []\n",
        "for line in open('/content/RADIOLOGY.txt', 'r'):\n",
        "    lines = [i for i in line.split()]\n",
        "    x.append(lines[0])\n",
        "    y1.append(int(lines[1]))\n",
        "    y2.append(int(lines[2]))\n",
        "    y3.append(int(lines[3]))\n",
        "    y4.append(int(lines[4]))\n",
        "    plt.scatter(x, y2)\n",
        "    plt.axhline(y = 6209.258064516129, color = 'r', linestyle = '-')\n",
        "    plt.title(\"patient-day\")\n",
        "plt.show()"
      ],
      "metadata": {
        "colab": {
          "base_uri": "https://localhost:8080/",
          "height": 281
        },
        "id": "bn9fF-oKS2-3",
        "outputId": "e8c56d4f-6028-4000-cf95-26f2beba7219"
      },
      "execution_count": 139,
      "outputs": [
        {
          "output_type": "display_data",
          "data": {
            "text/plain": [
              "<Figure size 432x288 with 1 Axes>"
            ],
            "image/png": "[encoded data removed]"
          },
          "metadata": {
            "needs_background": "light"
          }
        }
      ]
    },
    {
      "cell_type": "code",
      "source": [
        "import numpy\n",
        "import matplotlib.pyplot as plt\n",
        "  \n",
        "x = []\n",
        "y1 = []\n",
        "y2 = []\n",
        "y3 = []\n",
        "y4 = []\n",
        "for line in open('/content/RADIOLOGY.txt', 'r'):\n",
        "    lines = [i for i in line.split()]\n",
        "    x.append(lines[0])\n",
        "    y1.append(int(lines[1]))\n",
        "    y2.append(int(lines[2]))\n",
        "    y3.append(int(lines[3]))\n",
        "    y4.append(int(lines[4]))\n",
        "    plt.scatter(x, y3)\n",
        "    plt.axhline(y = 1383.3225806451612, color = 'r', linestyle = '-')\n",
        "    plt.title(\"ER visits\")\n",
        "plt.show()"
      ],
      "metadata": {
        "colab": {
          "base_uri": "https://localhost:8080/",
          "height": 281
        },
        "id": "LtJELhIi8kh9",
        "outputId": "47c34c7d-e6eb-4fb3-dc55-2803cf73c315"
      },
      "execution_count": 140,
      "outputs": [
        {
          "output_type": "display_data",
          "data": {
            "text/plain": [
              "<Figure size 432x288 with 1 Axes>"
            ],
            "image/png": "[encoded data removed]"
          },
          "metadata": {
            "needs_background": "light"
          }
        }
      ]
    },
    {
      "cell_type": "code",
      "source": [
        "import numpy\n",
        "import matplotlib.pyplot as plt\n",
        "  \n",
        "x = []\n",
        "y1 = []\n",
        "y2 = []\n",
        "y3 = []\n",
        "y4 = []\n",
        "for line in open('/content/RADIOLOGY.txt', 'r'):\n",
        "    lines = [i for i in line.split()]\n",
        "    x.append(lines[0])\n",
        "    y1.append(int(lines[1]))\n",
        "    y2.append(int(lines[2]))\n",
        "    y3.append(int(lines[3]))\n",
        "    y4.append(int(lines[4]))\n",
        "    plt.scatter(x, y4)\n",
        "    plt.axhline(y = 1135.5483870967741, color = 'r', linestyle = '-')\n",
        "    plt.title(\"clinic visits\")\n",
        "plt.show()"
      ],
      "metadata": {
        "colab": {
          "base_uri": "https://localhost:8080/",
          "height": 281
        },
        "id": "XW4YHE998k6H",
        "outputId": "044c4df0-4e24-4104-bc3d-6d1a16cafda4"
      },
      "execution_count": 141,
      "outputs": [
        {
          "output_type": "display_data",
          "data": {
            "text/plain": [
              "<Figure size 432x288 with 1 Axes>"
            ],
            "image/png": "[encoded data removed]"
          },
          "metadata": {
            "needs_background": "light"
          }
        }
      ]
    }
  ]
}